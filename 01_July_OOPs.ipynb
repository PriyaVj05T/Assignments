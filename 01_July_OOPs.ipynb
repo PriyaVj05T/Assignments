{
 "cells": [
  {
   "cell_type": "markdown",
   "id": "1b0c0388",
   "metadata": {},
   "source": [
    "Q1. What is the primary goal of Object-Oriented Programming (OOP)?"
   ]
  },
  {
   "cell_type": "markdown",
   "id": "9ade17c1",
   "metadata": {},
   "source": [
    "Ans - The primary approach of OOPs is to provide a structured and modular approach to the software development.This approach promotes reuseability,maintainability and flexibility to the code.OOP achieves this by organizing code into objects, which are instances of classes, and by defining the relationships and interactions between these objects.\n",
    "The main objective of OOPs includes, Encapsulation, Abstraction, inheritance and polymorphism.\n"
   ]
  },
  {
   "cell_type": "code",
   "execution_count": null,
   "id": "bb27d9c3",
   "metadata": {},
   "outputs": [],
   "source": []
  },
  {
   "cell_type": "markdown",
   "id": "b9be05b2",
   "metadata": {},
   "source": [
    "Q2. What is an object in Python?"
   ]
  },
  {
   "cell_type": "markdown",
   "id": "d254d946",
   "metadata": {},
   "source": [
    "Ans. An object is a fundamental concept which represents specific instance of a class. An object is a real world thing, that has both  data(Characterstics, attributes or properties) and functions(method, & actions)."
   ]
  },
  {
   "cell_type": "code",
   "execution_count": 1,
   "id": "ebf1eff5",
   "metadata": {},
   "outputs": [
    {
     "name": "stdout",
     "output_type": "stream",
     "text": [
      "Blue\n",
      "Sedan\n",
      "The car has started.\n"
     ]
    }
   ],
   "source": [
    "class Car:\n",
    "    def __init__(self, color, model):\n",
    "        self.color = color\n",
    "        self.model = model\n",
    "    \n",
    "    def start(self):\n",
    "        print(\"The car has started.\")\n",
    "\n",
    "my_car = Car(\"Blue\", \"Sedan\")\n",
    "print(my_car.color)  # Output: Blue\n",
    "print(my_car.model)  # Output: Sedan\n",
    "my_car.start()       # Output: The car has started.\n"
   ]
  },
  {
   "cell_type": "markdown",
   "id": "a893f0c9",
   "metadata": {},
   "source": [
    "In this example, we create an object my_car of the Car class with the attributes \"Blue\" and \"Sedan\" for color and model, respectively. We can access and print the values of these attributes using dot notation (my_car.color, my_car.model). Additionally, we invoke the start() method on the my_car object, which prints the message \"The car has started.\""
   ]
  },
  {
   "cell_type": "code",
   "execution_count": null,
   "id": "f6d8ca83",
   "metadata": {},
   "outputs": [],
   "source": []
  },
  {
   "cell_type": "markdown",
   "id": "ed4f348a",
   "metadata": {},
   "source": [
    "Q-3 What is a class in Python?"
   ]
  },
  {
   "cell_type": "markdown",
   "id": "acad46ce",
   "metadata": {},
   "source": [
    "Ans- In Python, a class is a blueprint or a template that defines the structure, attributes, and behaviors of objects. It serves as a blueprint for creating objects of a particular type. \n",
    "Class is a general concept, and objects are specific instances of that concept. A class encapsulates both data and methods (functions) related to the objects it creates. The data is represented by attributes or properties, which store the state of the object. The methods define the actions or behaviors that the objects can perform."
   ]
  },
  {
   "cell_type": "code",
   "execution_count": null,
   "id": "c07339ee",
   "metadata": {},
   "outputs": [],
   "source": []
  },
  {
   "cell_type": "markdown",
   "id": "890f8568",
   "metadata": {},
   "source": [
    "Q-4. What are attributes and methods in a class?"
   ]
  },
  {
   "cell_type": "markdown",
   "id": "d5b91c50",
   "metadata": {},
   "source": [
    "Ans- Attributes are like variables that store data or information associated with an object. They represent the state or characteristics of an object.Attributes are defined within a class and are accessed using dot notation on objects. Each object created from the class can have its own set of attribute values.\n",
    "Whereas Methods are functions defined within a class that describe the actions or behaviors that an object can perform.Methods can manipulate the object's attributes or perform other operations."
   ]
  },
  {
   "cell_type": "code",
   "execution_count": null,
   "id": "89159178",
   "metadata": {},
   "outputs": [],
   "source": []
  },
  {
   "cell_type": "markdown",
   "id": "ffcfea2b",
   "metadata": {},
   "source": [
    "Q-5. What is the difference between class variables and instance variables in Python?"
   ]
  },
  {
   "cell_type": "markdown",
   "id": "4806ba5d",
   "metadata": {},
   "source": [
    "Ans- Class variables are common variables for all instances of the class.They are defined within the class but outside any instance methods. Class variables are associated with the class itself rather than with individual objects. Any changes made to a class variable will affect all instances of the class. \n",
    "\n",
    "Instance variables are variables that are unique to each instance of a class. They are defined within the instance methods or the constructor (__init__() method) and are prefixed with self to associate them with a specific object."
   ]
  },
  {
   "cell_type": "code",
   "execution_count": 3,
   "id": "8f2d26c7",
   "metadata": {},
   "outputs": [
    {
     "name": "stdout",
     "output_type": "stream",
     "text": [
      "4\n",
      "4\n",
      "6\n",
      "6\n",
      "Blue\n",
      "Red\n"
     ]
    }
   ],
   "source": [
    " class Car:\n",
    "    num_of_wheels = 4   # Class variable\n",
    "\n",
    "    def __init__(self, color, model):\n",
    "        self.color = color\n",
    "        self.model = model\n",
    "\n",
    "car1 = Car(\"Blue\", \"Sedan\")\n",
    "car2 = Car(\"Red\", \"SUV\")\n",
    "\n",
    "print(car1.num_of_wheels) \n",
    "print(car2.num_of_wheels)  \n",
    "\n",
    "Car.num_of_wheels = 6      # Modifying the class variable\n",
    "\n",
    "print(car1.num_of_wheels) \n",
    "print(car2.num_of_wheels) \n",
    "print(car1.color)  # Accessing instance variable\n",
    "print(car2.color) "
   ]
  },
  {
   "cell_type": "markdown",
   "id": "6f5585c8",
   "metadata": {},
   "source": [
    "In above example,  num_of_wheels is class variable whereas color and model are instance variable, unique for each instance."
   ]
  },
  {
   "cell_type": "code",
   "execution_count": null,
   "id": "3dc9d027",
   "metadata": {},
   "outputs": [],
   "source": []
  },
  {
   "cell_type": "markdown",
   "id": "d1688039",
   "metadata": {},
   "source": [
    "Q-6. What is the purpose of the self parameter in Python class methods?"
   ]
  },
  {
   "cell_type": "markdown",
   "id": "8d8d244e",
   "metadata": {},
   "source": [
    "Ans- The self parameter is used to access the instance variable specific to the object. \"self\" allows the methods to access and manipulate the instance variables and other methods of the class.It is a convention to name the first parameter of instance methods as self, although we can choose any name we like.\n",
    "The purpose of the self parameter is to differentiate between instance variables (attributes) and local variables within the method. When a method is called on an object, the self parameter implicitly passes the object itself as an argument to the method. This allows the method to access and operate on the specific instance variables of that object."
   ]
  },
  {
   "cell_type": "code",
   "execution_count": null,
   "id": "38d61657",
   "metadata": {},
   "outputs": [],
   "source": []
  },
  {
   "cell_type": "markdown",
   "id": "bb261a02",
   "metadata": {},
   "source": [
    "Q-7.For a library management system, you have to design the \"Book\" class with OOP principles in mind. The “Book” class will have following attributes:\n",
    "a.\ttitle: Represents the title of the book.\n",
    "b.\tauthor: Represents the author(s) of the book.\n",
    "c.\tisbn: Represents the ISBN (International Standard Book Number) of the book.\n",
    "d.\tpublication_year: Represents the year of publication of the book.\n",
    "e.\tavailable_copies: Represents the number of copies available for checkout. The class will also include the following methods:\n",
    "a.\tcheck_out(self): Decrements the available copies by one if there are copies available for checkout.\n",
    "b.\treturn_book(self): Increments the available copies by one when a book is returned.\n",
    "c.\tdisplay_book_info(self): Displays the information about the book, including its attributes and the number of available copies.\n"
   ]
  },
  {
   "cell_type": "code",
   "execution_count": 10,
   "id": "7c9bedc5",
   "metadata": {},
   "outputs": [
    {
     "name": "stdout",
     "output_type": "stream",
     "text": [
      "The available copies in library are 24 : Withdrawl\n",
      "The available copies in library are 23 : Withdrawl\n",
      "The available copies in library are 22 : Withdrawl\n",
      "The available copies in library are 23 : returned\n",
      "The book titled ' The Harry potter vol.1 ' detailed info are:\n",
      "Author:J.K Rowlling, Isbn :2376523,Publication_year:2010, available copies 23\n"
     ]
    }
   ],
   "source": [
    "class Book():\n",
    "    def __init__(self,title,author,isbn,publication_year,available_copies):\n",
    "        self.title=title\n",
    "        self.author=author\n",
    "        self.isbn = isbn\n",
    "        self.publication_year=publication_year\n",
    "        self.available_copies=available_copies\n",
    "    def check_out(self):\n",
    "        self.available_copies=self.available_copies-1\n",
    "        print(f\"The available copies in library are {self.available_copies} : Withdrawl\")\n",
    "    def return_book(self):\n",
    "        self.available_copies=self.available_copies+1\n",
    "        print(f\"The available copies in library are {self.available_copies} : returned\")\n",
    "    def display_book_info(self):\n",
    "        print(f\"The book titled ' {self.title} ' detailed info are:\")\n",
    "        print(f\"Author:{self.author}, Isbn :{self.isbn},Publication_year:{self.publication_year}, available copies {self.available_copies}\")\n",
    "    \n",
    "Book1 = Book(\"The Harry potter vol.1\",\"J.K Rowlling\",\"2376523\",2010, 25)  \n",
    "Book1.check_out()\n",
    "Book1.check_out()\n",
    "Book1.check_out()\n",
    "Book1.return_book()\n",
    "Book1.display_book_info()"
   ]
  },
  {
   "cell_type": "markdown",
   "id": "7f4dae4c",
   "metadata": {},
   "source": [
    "Q-8. For a ticket booking system, you have to design the \"Ticket\" class with OOP principles in mind. The “Ticket” class should have the following attributes:\n",
    "a.\tticket_id: Represents the unique identifier for the ticket.\n",
    "b.\tevent_name: Represents the name of the event.\n",
    "c.\tevent_date: Represents the date of the event.\n",
    "d.\tvenue: Represents the venue of the event.\n",
    "e.\tseat_number: Represents the seat number associated with the ticket.\n",
    "f.\tprice: Represents the price of the ticket.\n",
    "g.\tis_reserved: Represents the reservation status of the ticket. The class also includes the following methods:\n",
    "a.\treserve_ticket(self): Marks the ticket as reserved if it is not already reserved.\n",
    "b.\tcancel_reservation(self): Cancels the reservation of the ticket if it is already reserved.\n",
    "c.\tdisplay_ticket_info(self): Displays the information about the ticket, including its attributes and reservation status.\n"
   ]
  },
  {
   "cell_type": "code",
   "execution_count": 16,
   "id": "15cb8dd4",
   "metadata": {},
   "outputs": [
    {
     "name": "stdout",
     "output_type": "stream",
     "text": [
      "Your ticket information is:\n",
      " Ticket Id is: AC23001\n",
      " Event name is: Ind Vs Pak\n",
      " Event date is: 11-09-2023\n",
      " Event Venue is: Motera stadium\n",
      " Seat Number is: A5S23\n",
      " Ticket Price is: 7000\n",
      "Reservation Status: Not Reserved\n",
      "Your ticket is reserved\n",
      "Your ticket information is:\n",
      " Ticket Id is: AC23001\n",
      " Event name is: Ind Vs Pak\n",
      " Event date is: 11-09-2023\n",
      " Event Venue is: Motera stadium\n",
      " Seat Number is: A5S23\n",
      " Ticket Price is: 7000\n",
      "Reservation Status: Reserved\n",
      "Your ticket is cancelled\n",
      "Your ticket information is:\n",
      " Ticket Id is: AC23001\n",
      " Event name is: Ind Vs Pak\n",
      " Event date is: 11-09-2023\n",
      " Event Venue is: Motera stadium\n",
      " Seat Number is: A5S23\n",
      " Ticket Price is: 7000\n",
      "Reservation Status: Not Reserved\n"
     ]
    }
   ],
   "source": [
    "class Ticket():\n",
    "    def __init__(self,ticket_id,event_name,event_date,venue,seat_number,price):\n",
    "        self.ticket_id =ticket_id\n",
    "        self.event_name =event_name\n",
    "        self.event_date = event_date\n",
    "        self.venue=venue\n",
    "        self.seat_number=seat_number\n",
    "        self.price=price\n",
    "        self.is_reserved = False  #By default, there is no reservation in the system\n",
    "        \n",
    "    def reserve_ticket(self):\n",
    "        if not self.is_reserved:\n",
    "            self.is_reserved = True\n",
    "            print(\"Your ticket is reserved\") \n",
    "        else:\n",
    "            print(\"Your ticket is already reserved\")\n",
    "            \n",
    "    def cancel_reservation(self):\n",
    "        if self.is_reserved:\n",
    "            self.is_reserved = False\n",
    "            print(\"Your ticket is cancelled\") \n",
    "        else:\n",
    "            print(\"Your ticket is not reserved\")\n",
    "            \n",
    "    def display_ticket_info(self):\n",
    "        print(\"Your ticket information is:\")\n",
    "        print(f\" Ticket Id is: {self.ticket_id}\")\n",
    "        print(f\" Event name is: {self.event_name}\")\n",
    "        print(f\" Event date is: {self.event_date}\")\n",
    "        print(f\" Event Venue is: {self.venue}\")\n",
    "        print(f\" Seat Number is: {self.seat_number}\")\n",
    "        print(f\" Ticket Price is: {self.price}\")\n",
    "        print(f\"Reservation Status: {'Reserved' if self.is_reserved else 'Not Reserved'}\")\n",
    "        \n",
    "Ticket1= Ticket(\"AC23001\",\"Ind Vs Pak\",\"11-09-2023\",\"Motera stadium\",\"A5S23\", 7000)         \n",
    "Ticket1.display_ticket_info() \n",
    "\n",
    "Ticket1.reserve_ticket()        \n",
    "Ticket1.display_ticket_info()  \n",
    "\n",
    "Ticket1.cancel_reservation()\n",
    "Ticket1.display_ticket_info()  "
   ]
  },
  {
   "cell_type": "code",
   "execution_count": null,
   "id": "0ec01ecd",
   "metadata": {},
   "outputs": [],
   "source": []
  },
  {
   "cell_type": "markdown",
   "id": "834f8bbf",
   "metadata": {},
   "source": [
    "Q-9.\tYou are creating a shopping cart for an e-commerce website. Using OOP to model the \"ShoppingCart\" functionality the class should contain following attributes and methods:\n",
    "a.\titems: Represents the list of items in the shopping cart. The class also includes the following methods:\n",
    " \n",
    "a.\tadd_item(self, item): Adds an item to the shopping cart by appending it to the list of items.\n",
    "b.\tremove_item(self, item): Removes an item from the shopping cart if it exists in the list.\n",
    "c.\tview_cart(self): Displays the items currently present in the shopping cart.\n",
    "d.\tclear_cart(self): Clears all items from the shopping cart by reassigning an empty list to the items attribute.\n"
   ]
  },
  {
   "cell_type": "code",
   "execution_count": 30,
   "id": "771f81db",
   "metadata": {},
   "outputs": [],
   "source": [
    "class ShoppingCart:\n",
    "    def __init__(self):\n",
    "        self.items = []\n",
    "\n",
    "    def add_item(self, item):\n",
    "        self.items.append(item)\n",
    "        print(f\"{item} added to the shopping cart.\")\n",
    "\n",
    "    def remove_item(self, item):\n",
    "        if item in self.items:\n",
    "            self.items.remove(item)\n",
    "            print(f\"{item} removed from the shopping cart.\")\n",
    "        else:\n",
    "            print(f\"{item} is not in the shopping cart.\")\n",
    "\n",
    "    def view_cart(self):\n",
    "        if self.items:\n",
    "            print(\"Items in the shopping cart:\")\n",
    "            for item in self.items:\n",
    "                print(item)\n",
    "        else:\n",
    "            print(\"The shopping cart is empty.\")\n",
    "\n",
    "    def clear_cart(self):\n",
    "        self.items = []\n",
    "        print(\"Shopping cart cleared.\")\n",
    "\n",
    "\n"
   ]
  },
  {
   "cell_type": "code",
   "execution_count": 31,
   "id": "679433bf",
   "metadata": {},
   "outputs": [
    {
     "name": "stdout",
     "output_type": "stream",
     "text": [
      "Banana added to the shopping cart.\n",
      "Flour added to the shopping cart.\n",
      "Egg added to the shopping cart.\n",
      "Items in the shopping cart:\n",
      "Banana\n",
      "Flour\n",
      "Egg\n",
      "Banana removed from the shopping cart.\n",
      "Egg removed from the shopping cart.\n",
      "Items in the shopping cart:\n",
      "Flour\n",
      "Shopping cart cleared.\n",
      "The shopping cart is empty.\n"
     ]
    }
   ],
   "source": [
    "\n",
    "cart = ShoppingCart()\n",
    "\n",
    "cart.add_item(\"Banana\")\n",
    "cart.add_item(\"Flour\")\n",
    "cart.add_item(\"Egg\")\n",
    "\n",
    "cart.view_cart()\n",
    "\n",
    "cart.remove_item(\"Banana\")\n",
    "cart.remove_item(\"Egg\")\n",
    "\n",
    "cart.view_cart()\n",
    "\n",
    "cart.clear_cart()\n",
    "\n",
    "cart.view_cart()"
   ]
  },
  {
   "cell_type": "code",
   "execution_count": null,
   "id": "d2668c73",
   "metadata": {},
   "outputs": [],
   "source": []
  },
  {
   "cell_type": "markdown",
   "id": "d9c09996",
   "metadata": {},
   "source": [
    "Q-10. Imagine a school management system. You have to design the \"Student\" class using OOP concepts.The “Student” class has the following attributes:\n",
    "a. name: Represents the name of the student.\n",
    "b. age: Represents the age of the student.\n",
    "c. grade: Represents the grade or class of the student.\n",
    "d. student_id: Represents the unique identifier for the student.\n",
    "e. attendance: Represents the attendance record of the student. The class should also include the following methods:\n",
    "a. update_attendance(self, date, status): Updates the attendance record of the student for a given date with the provided status (e.g., present or absent).\n",
    "b. get_attendance(self): Returns the attendance record of the student.\n",
    "c. get_average_attendance(self): Calculates and returns the average attendance percentage of the student based on their attendance record.\n"
   ]
  },
  {
   "cell_type": "code",
   "execution_count": 34,
   "id": "2f904314",
   "metadata": {},
   "outputs": [],
   "source": [
    "class Student:\n",
    "    def __init__(self, name, age, grade, student_id):\n",
    "        self.name = name\n",
    "        self.age = age\n",
    "        self.grade = grade\n",
    "        self.student_id = student_id\n",
    "        self.attendance = {}\n",
    "\n",
    "    def update_attendance(self, date, status):\n",
    "        self.attendance[date] = status\n",
    "\n",
    "    def get_attendance(self):\n",
    "        return self.attendance\n",
    "\n",
    "    def get_average_attendance(self):\n",
    "        total_days = len(self.attendance)\n",
    "        if total_days == 0:\n",
    "            return 0\n",
    "\n",
    "        present_days = sum(value == \"present\" for value in self.attendance.values())\n",
    "        attendance_percentage = (present_days / total_days) * 100\n",
    "        return attendance_percentage\n",
    "\n",
    "\n"
   ]
  },
  {
   "cell_type": "code",
   "execution_count": 35,
   "id": "d2c84d9f",
   "metadata": {},
   "outputs": [
    {
     "name": "stdout",
     "output_type": "stream",
     "text": [
      "{'2023-07-01': 'present', '2023-07-02': 'absent', '2023-07-03': 'present', '2023-07-04': 'present'}\n",
      "Average Attendance: 75.00%\n"
     ]
    }
   ],
   "source": [
    "student1 = Student(\"Jenny\", 15, 9, \"A123\")\n",
    "\n",
    "student1.update_attendance(\"2023-07-01\", \"present\")\n",
    "student1.update_attendance(\"2023-07-02\", \"absent\")\n",
    "student1.update_attendance(\"2023-07-03\", \"present\")\n",
    "student1.update_attendance(\"2023-07-04\", \"present\")\n",
    "\n",
    "print(student1.get_attendance())\n",
    "\n",
    "average_attendance = student1.get_average_attendance()\n",
    "print(f\"Average Attendance: {average_attendance:.2f}%\")"
   ]
  },
  {
   "cell_type": "code",
   "execution_count": null,
   "id": "a4b4652f",
   "metadata": {},
   "outputs": [],
   "source": []
  }
 ],
 "metadata": {
  "kernelspec": {
   "display_name": "Python 3 (ipykernel)",
   "language": "python",
   "name": "python3"
  },
  "language_info": {
   "codemirror_mode": {
    "name": "ipython",
    "version": 3
   },
   "file_extension": ".py",
   "mimetype": "text/x-python",
   "name": "python",
   "nbconvert_exporter": "python",
   "pygments_lexer": "ipython3",
   "version": "3.9.12"
  }
 },
 "nbformat": 4,
 "nbformat_minor": 5
}
