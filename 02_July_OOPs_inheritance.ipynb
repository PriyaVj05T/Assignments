{
 "cells": [
  {
   "cell_type": "markdown",
   "id": "d6dcbe72",
   "metadata": {},
   "source": [
    "Q-1:Explain what inheritance is in object-oriented programming and why it is used."
   ]
  },
  {
   "cell_type": "markdown",
   "id": "ca07e896",
   "metadata": {},
   "source": [
    "Ans- In object oriented programming, inheritance is a fundamental concept, which allows classes to inherit attribute and behaviour from other classes.This is a concept of code reuseability. \n",
    "            In inheritance, Child or derived class inherits properties(attributes) and methods(functions) from parent or base class.The child class extends the functionality of the parent class by adding new features or modifying existing ones.\n",
    "Inheritance is used for several reasons some of them are:\n",
    "           1. Code reusebility\n",
    "           2. Code modularity\n",
    "           3. Polymorphism\n",
    "           4. Code organization\n",
    "           5. Code extensibility\n",
    "           6. Flexible and efficient code development environment"
   ]
  },
  {
   "cell_type": "code",
   "execution_count": 1,
   "id": "7569bf5a",
   "metadata": {},
   "outputs": [
    {
     "name": "stdout",
     "output_type": "stream",
     "text": [
      "Buddy\n",
      "Woof!\n",
      "Whiskers\n",
      "Meow!\n"
     ]
    }
   ],
   "source": [
    "#Example\n",
    "class Animal:\n",
    "    def __init__(self, name):\n",
    "        self.name = name\n",
    "\n",
    "    def speak(self):\n",
    "        pass\n",
    "\n",
    "class Dog(Animal):\n",
    "    def speak(self):\n",
    "        return \"Woof!\"\n",
    "\n",
    "class Cat(Animal):\n",
    "    def speak(self):\n",
    "        return \"Meow!\"\n",
    "\n",
    "dog = Dog(\"Buddy\")\n",
    "cat = Cat(\"Whiskers\")\n",
    "\n",
    "print(dog.name)    \n",
    "print(dog.speak()) \n",
    "print(cat.name)    \n",
    "print(cat.speak()) \n"
   ]
  },
  {
   "cell_type": "code",
   "execution_count": null,
   "id": "8f05fdfb",
   "metadata": {},
   "outputs": [],
   "source": []
  },
  {
   "cell_type": "markdown",
   "id": "6b6a5b8f",
   "metadata": {},
   "source": [
    "Q-2.\tDiscuss the concept of single inheritance and multiple inheritance, highlighting their differences and advantages."
   ]
  },
  {
   "cell_type": "markdown",
   "id": "8a70621a",
   "metadata": {},
   "source": [
    "**Single inheritence:\n",
    "\n",
    "Single inheritance refers to the mechanism where a derived class inherits from a single base class. In this form of inheritance, a class can have only one direct parent class. This parent-child relationship forms a linear hierarchy.\n",
    "\n",
    "**Advantages of Single Inheritance:\n",
    "* Simplicity: \n",
    " Single inheritance offers a simpler and more straightforward structure since a class has only one parent. This simplicity can make the code easier to understand, maintain, and debug.\n",
    "* Reduced Complexity:\n",
    "With a single parent, the derived class inherits a specific set of attributes and behaviors, leading to less complexity and potential conflicts in the class hierarchy.\n",
    "* Encapsulation: \n",
    "Single inheritance promotes encapsulation by allowing classes to inherit and specialize functionality from a single source.\n",
    "\n",
    "\n"
   ]
  },
  {
   "cell_type": "code",
   "execution_count": 2,
   "id": "2e2fa85f",
   "metadata": {},
   "outputs": [
    {
     "name": "stdout",
     "output_type": "stream",
     "text": [
      "Animal is eating\n",
      "Dog is barking\n"
     ]
    }
   ],
   "source": [
    "#Example \n",
    "class Animal:\n",
    "    def eat(self):\n",
    "        print(\"Animal is eating\")\n",
    "\n",
    "class Dog(Animal):\n",
    "    def bark(self):\n",
    "        print(\"Dog is barking\")\n",
    "\n",
    "dog = Dog()\n",
    "dog.eat() \n",
    "dog.bark()"
   ]
  },
  {
   "cell_type": "markdown",
   "id": "a06e4b92",
   "metadata": {},
   "source": [
    "**Multiple Inheritance:\n",
    "\n",
    "Multiple inheritance refers to the mechanism where a derived class can inherit from multiple base classes. This means that a class can have more than one direct parent class. The derived class inherits attributes and behaviors from all its base classes.\n",
    "\n",
    "**Advantages of multiple inheritance\n",
    "\n",
    "* Code Reusability:\n",
    "Multiple inheritance allows a class to inherit functionality from multiple sources, promoting code reuse. It enables the derived class to combine and integrate features from multiple base classes.\n",
    "\n",
    "* Richer Functionality: \n",
    "With multiple inheritance, a class can inherit and combine diverse sets of attributes and behaviors, leading to richer functionality and increased flexibility.\n",
    "\n",
    "* Modeling Complex Relationships:\n",
    "Multiple inheritance can be useful for modeling complex relationships where a class needs to exhibit characteristics from multiple domains or categories.\n",
    "    "
   ]
  },
  {
   "cell_type": "code",
   "execution_count": 3,
   "id": "340cd051",
   "metadata": {},
   "outputs": [
    {
     "name": "stdout",
     "output_type": "stream",
     "text": [
      "Quack!\n",
      "Flying\n",
      "Swimming\n"
     ]
    }
   ],
   "source": [
    "#Example of multiple inheritance\n",
    "class Flyable:\n",
    "    def fly(self):\n",
    "        print(\"Flying\")\n",
    "\n",
    "class Swimmable:\n",
    "    def swim(self):\n",
    "        print(\"Swimming\")\n",
    "\n",
    "class Duck(Flyable, Swimmable):\n",
    "    def quack(self):\n",
    "        print(\"Quack!\")\n",
    "\n",
    "duck = Duck()\n",
    "duck.quack() \n",
    "duck.fly()   \n",
    "duck.swim()  \n"
   ]
  },
  {
   "cell_type": "markdown",
   "id": "25be7056",
   "metadata": {},
   "source": [
    "**Disadvantages:\n",
    "\n",
    "Single inheritance provides less flexibility and code reusability whereas multiple inheritance can provide increased flexibility and code reuse, it can also introduce complexity and potential conflicts, especially if there are naming collisions or ambiguities between the inherited attributes or methods. Proper design and careful consideration of class relationships are required to mitigate these issues."
   ]
  },
  {
   "cell_type": "code",
   "execution_count": null,
   "id": "1b4f00ef",
   "metadata": {},
   "outputs": [],
   "source": []
  },
  {
   "cell_type": "markdown",
   "id": "5af9dc06",
   "metadata": {},
   "source": [
    "Q-3. Explain the terms \"base class\" and \"derived class\" in the context of inheritance"
   ]
  },
  {
   "cell_type": "markdown",
   "id": "e87ba07e",
   "metadata": {},
   "source": [
    "* Base Class:\n",
    "A base class, also known as a parent class or superclass, is the class from which other classes inherit properties and behaviors. It serves as a template or blueprint for creating derived classes. The base class defines common attributes and methods that are shared among the derived classes.\n",
    "\n",
    "* Derived Class:\n",
    "A derived class, also known as a child class or subclass, is a class that inherits properties and behaviors from a base class. It extends the functionality of the base class by adding new features or modifying existing ones. A derived class can have its own unique attributes and methods in addition to the inherited ones."
   ]
  },
  {
   "cell_type": "code",
   "execution_count": null,
   "id": "f394be57",
   "metadata": {},
   "outputs": [],
   "source": []
  },
  {
   "cell_type": "markdown",
   "id": "77cec5e8",
   "metadata": {},
   "source": [
    "Q-4. What is the significance of the \"protected\" access modifier in inheritance? How does it differ from \"private\" and \"public\" modifiers?"
   ]
  },
  {
   "cell_type": "markdown",
   "id": "90bfa319",
   "metadata": {},
   "source": [
    "Ans- \n",
    "\n",
    "In object-oriented programming, the \"protected\" access modifier is a visibility control mechanism that defines the accessibility of class members (attributes and methods) within the context of inheritance. The \"protected\" modifier provides a middle ground between the \"private\" and \"public\" modifiers.\n",
    "\n",
    "* The differences between these access modifiers can be summarized as follows:\n",
    "\n",
    "1. Private members are only accessible within the class that defines them, and they are not inherited or directly accessible in derived classes.\n",
    "\n",
    "2. Protected members are accessible within the class that defines them and any derived classes. They allow for limited access in the class hierarchy, ensuring derived classes can utilize and extend the base class functionality.\n",
    "\n",
    "3. Public members have no access restrictions and are accessible from anywhere, both within and outside the class hierarchy.\n",
    "\n",
    "The choice of access modifier depends on the desired level of encapsulation, visibility, and data protection needed for class members in different scenarios. Protected members strike a balance between encapsulation and inheritance, allowing derived classes to access and build upon the base class while maintaining limited visibility to unrelated classes."
   ]
  },
  {
   "cell_type": "code",
   "execution_count": null,
   "id": "f26e5595",
   "metadata": {},
   "outputs": [],
   "source": []
  },
  {
   "cell_type": "markdown",
   "id": "5fc8a2ab",
   "metadata": {},
   "source": [
    "Q-5. What is the purpose of the \"super\" keyword in inheritance? Provide an example."
   ]
  },
  {
   "cell_type": "markdown",
   "id": "dc6db0f5",
   "metadata": {},
   "source": [
    "Ans-\n",
    "In inheritance, the \"super\" keyword refers to the parent class or superclass. It is used to access and invoke the methods and attributes of the parent class within the context of the derived class. The \"super\" keyword is particularly useful when overriding methods in the derived class and wanting to include or extend the functionality of the parent class's method."
   ]
  },
  {
   "cell_type": "code",
   "execution_count": 7,
   "id": "64b75d83",
   "metadata": {},
   "outputs": [
    {
     "name": "stdout",
     "output_type": "stream",
     "text": [
      "Animal is making a sound.\n",
      "Dog is barking.\n"
     ]
    }
   ],
   "source": [
    "#Example\n",
    "class Animal:\n",
    "    def __init__(self, name):\n",
    "        self.name = name\n",
    "\n",
    "    def make_sound(self):\n",
    "        print(\"Animal is making a sound.\")\n",
    "\n",
    "class Dog(Animal):\n",
    "    def __init__(self, name):\n",
    "        super().__init__(name)\n",
    "\n",
    "    def make_sound(self):\n",
    "        super().make_sound()\n",
    "        print(\"Dog is barking.\")\n",
    "\n",
    "dog = Dog(\"Buddy\")\n",
    "dog.make_sound()"
   ]
  },
  {
   "cell_type": "code",
   "execution_count": null,
   "id": "772e251d",
   "metadata": {},
   "outputs": [],
   "source": []
  },
  {
   "cell_type": "markdown",
   "id": "b9a5a6e2",
   "metadata": {},
   "source": [
    "Q-6. Create a base class called \"Vehicle\" with attributes like \"make\", \"model\", and \"year\". Then, create a derived class called \"Car\" that inherits from \"Vehicle\" and adds an attribute called \"fuel_type\". Implement appropriate methods in both classes."
   ]
  },
  {
   "cell_type": "code",
   "execution_count": 13,
   "id": "2aaec29e",
   "metadata": {},
   "outputs": [
    {
     "name": "stdout",
     "output_type": "stream",
     "text": [
      "The vehicle BMW,XCE007,2022 make, is started,\n",
      "This is a petrol car\n"
     ]
    }
   ],
   "source": [
    "class vehicle():\n",
    "    def __init__(self, make, model,year):\n",
    "        self.make=make\n",
    "        self.model=model\n",
    "        self.year=year\n",
    "    def start(self):\n",
    "        print(f\"The vehicle {self.make},{self.model},{self.year} make, is started,\")\n",
    "        \n",
    "class car(vehicle):\n",
    "    def __init__(self,make,model,year,fuel_type):\n",
    "        super(). __init__(make,model,year)\n",
    "        self.fuel_type = fuel_type\n",
    "    def start(self):    \n",
    "        super().start()\n",
    "        print(f\"This is a {self.fuel_type} car\")\n",
    "        \n",
    "car1=car(\"BMW\",\"XCE007\",2022,\"petrol\") \n",
    "car1.start()\n"
   ]
  },
  {
   "cell_type": "code",
   "execution_count": null,
   "id": "60e1f91b",
   "metadata": {},
   "outputs": [],
   "source": []
  },
  {
   "cell_type": "markdown",
   "id": "901af01d",
   "metadata": {},
   "source": [
    "Q-7. Create a base class called \"Employee\" with attributes like \"name\" and \"salary.\" Derive two classes, \"Manager\" and \"Developer,\" from \"Employee.\" Add an additional attribute called \"department\" for the \"Manager\" class and \"programming_language\" for the \"Developer\" class."
   ]
  },
  {
   "cell_type": "code",
   "execution_count": 17,
   "id": "a7f8c8c9",
   "metadata": {},
   "outputs": [
    {
     "name": "stdout",
     "output_type": "stream",
     "text": [
      "Employee name is subhash,his salary is 50000\n",
      "He is working in HR department\n",
      "Employee name is Ganesh,his salary is 75000\n",
      "He is working on Python Programming_language\n"
     ]
    }
   ],
   "source": [
    "class Employee():\n",
    "    def __init__(self,name,salary):\n",
    "        self.name=name\n",
    "        self.salary=salary\n",
    "        \n",
    "    def info(self):\n",
    "        print(f\"Employee name is {self.name},his salary is {self.salary}\")\n",
    "        \n",
    "class Manager(Employee):  \n",
    "    def __init__(self,name,salary, department):\n",
    "        super().__init__(name, salary)\n",
    "        self.department = department\n",
    "        \n",
    "    def info(self):\n",
    "        super().info()\n",
    "        print(f\"He is working in {self.department} department\")\n",
    "        \n",
    "class Developer(Employee): \n",
    "    def __init__(self,name,salary,Programming_language):\n",
    "            super().__init__(name, salary)\n",
    "            self.Programming_language = Programming_language\n",
    "    def info(self):\n",
    "        super().info()\n",
    "        print(f\"He is working on {self.Programming_language} Programming_language\")      \n",
    "        \n",
    "Manager1=Manager(\"subhash\", 50000 ,\"HR\") \n",
    "Manager1.info()\n",
    "\n",
    "dev1= Developer(\"Ganesh\", 75000, \"Python\")\n",
    "dev1.info()"
   ]
  },
  {
   "cell_type": "code",
   "execution_count": null,
   "id": "8c4be198",
   "metadata": {},
   "outputs": [],
   "source": []
  },
  {
   "cell_type": "markdown",
   "id": "686a2e76",
   "metadata": {},
   "source": [
    "Q-8. Design a base class called \"Shape\" with attributes like \"colour\" and \"border_width.\" Create derived classes, \"Rectangle\" and \"Circle,\" that inherit from \"Shape\" and add specific attributes like \"length\" and \"width\" for the \"Rectangle\" class and \"radius\" for the \"Circle\" class."
   ]
  },
  {
   "cell_type": "code",
   "execution_count": 22,
   "id": "32050b42",
   "metadata": {},
   "outputs": [
    {
     "name": "stdout",
     "output_type": "stream",
     "text": [
      " Shape's colour is Blue and border-width is .5mm\n",
      "Its length is 25, and width is 10 in cm\n",
      "Its area is 250\n",
      " Shape's colour is Red and border-width is .7mm\n",
      "Its Radius is 6cm\n"
     ]
    }
   ],
   "source": [
    "class Shape():\n",
    "    def __init__(self,colour,border_width):\n",
    "        self.colour = colour\n",
    "        self.border_width = border_width\n",
    "        \n",
    "    def info(self):\n",
    "        print(f\" Shape's colour is {self.colour} and border-width is {self.border_width}\")\n",
    "        \n",
    "class Rectangle(Shape):\n",
    "    def __init__(self, colour,border_width, length,width):\n",
    "        super().__init__(colour,border_width)\n",
    "        self.length = length\n",
    "        self.width = width\n",
    "    def info(self):\n",
    "        super().info()\n",
    "        print(f\"Its length is {self.length}, and width is {self.width} in cm\")\n",
    "        print(f\"Its area is {(self.length)*(self.width)}\")\n",
    "        \n",
    "        \n",
    "class Circle(Shape):\n",
    "    def __init__(self, colour,border_width, radius):\n",
    "        super().__init__(colour,border_width)\n",
    "        self.radius = radius\n",
    "        \n",
    "    def info(self):\n",
    "        super().info()\n",
    "        print(f\"Its Radius is {self.radius}\") \n",
    "        \n",
    "rectangle1 =  Rectangle(\"Blue\",\".5mm\" ,25,10) \n",
    "rectangle1.info()\n",
    "\n",
    "circle1= Circle(\"Red\",\".7mm\", \"6cm\")\n",
    "circle1.info()"
   ]
  },
  {
   "cell_type": "code",
   "execution_count": null,
   "id": "54198a36",
   "metadata": {},
   "outputs": [],
   "source": []
  },
  {
   "cell_type": "markdown",
   "id": "50ab1b17",
   "metadata": {},
   "source": [
    "Q-9. Create a base class called \"Device\" with attributes like \"brand\" and \"model.\" Derive two classes, \"Phone\" and \"Tablet,\" from \"Device.\" Add specific attributes like \"screen_size\" for the \"Phone\" class and \"battery_capacity\" for the \"Tablet\" class."
   ]
  },
  {
   "cell_type": "code",
   "execution_count": 23,
   "id": "9a42e1d2",
   "metadata": {},
   "outputs": [
    {
     "name": "stdout",
     "output_type": "stream",
     "text": [
      "Selected device is of Apple brand and 14pro model \n",
      "Screensize of the phone is 6 inch\n",
      "Selected device is of samsung brand and S20 model \n",
      " Battery capacity of the Tablet is 10000 mAh\n"
     ]
    }
   ],
   "source": [
    "class Device():\n",
    "    def __init__(self,brand,model):\n",
    "        self.brand =brand\n",
    "        self.model=model\n",
    "        \n",
    "    def info(self):\n",
    "        print(f\"Selected device is of {self.brand} brand and {self.model} model \")\n",
    "        \n",
    "class Phone(Device):\n",
    "    def __init__(self, brand, model, screen_size):\n",
    "        super().__init__(brand,model)\n",
    "        self.screen_size =screen_size\n",
    "        \n",
    "    def info(self):\n",
    "        super().info()\n",
    "        print(f\"Screensize of the phone is {self.screen_size}\")\n",
    "        \n",
    "class Tablet(Device):\n",
    "    def __init__(self, brand, model, battery_capacity):\n",
    "        super().__init__(brand,model)\n",
    "        self.battery_capacity =battery_capacity\n",
    "        \n",
    "    def info(self):\n",
    "        super().info()\n",
    "        print(f\" Battery capacity of the Tablet is {self.battery_capacity}\")    \n",
    "        \n",
    "        \n",
    "Device1 = Phone(\"Apple\",\"14pro\",\"6 inch\")     \n",
    "Device1.info()\n",
    "\n",
    "Device2 = Tablet(\"samsung\",\"S20\",\"10000 mAh\")\n",
    "Device2.info()\n",
    "        "
   ]
  },
  {
   "cell_type": "code",
   "execution_count": null,
   "id": "bd6a689e",
   "metadata": {},
   "outputs": [],
   "source": []
  },
  {
   "cell_type": "markdown",
   "id": "66ddc123",
   "metadata": {},
   "source": [
    "Q-10. Create a base class called \"BankAccount\" with attributes like \"account_number\" and \"balance.\" Derive two classes, \"SavingsAccount\" and \"CheckingAccount,\" from \"BankAccount.\" Add specific methods like \"calculate_interest\" for the \"SavingsAccount\" class and \"deduct_fees\" for the \"CheckingAccount\" class."
   ]
  },
  {
   "cell_type": "code",
   "execution_count": 31,
   "id": "1e38eaf4",
   "metadata": {},
   "outputs": [
    {
     "name": "stdout",
     "output_type": "stream",
     "text": [
      "Your account number 12345  has Rs. 235000\n",
      "Total interest on your balance is 17625.0\n",
      "Your new balance is Rs. 252625.0\n",
      "Your account number 15447  has Rs. 241800\n",
      " your remaining amount after fee deduction is Rs. 239800\n"
     ]
    }
   ],
   "source": [
    "class BankAccount():\n",
    "    def __init__(self, account_no ,balance):\n",
    "        self.account_no=account_no\n",
    "        self.balance=balance\n",
    "        \n",
    "    def info(self):\n",
    "        print(f\"Your account number {self.account_no}  has Rs. {self.balance}\")\n",
    "        \n",
    "class SavingsAccount(BankAccount):\n",
    "    def __init__(self,account_no ,balance, rate,time):\n",
    "        super().__init__(account_no ,balance)\n",
    "        self.rate = rate\n",
    "        self.time = time\n",
    "        \n",
    "    def Calculate_interest(self):\n",
    "        super().info()\n",
    "        print(f\"Total interest on your balance is {(self.balance*self.rate*self.time)/100}\")\n",
    "        self.balance = self.balance + ((self.balance*self.rate*self.time)/100)\n",
    "        print(f\"Your new balance is Rs. {self.balance}\")\n",
    "        \n",
    "class checkingAccount(BankAccount):\n",
    "    def __init__(self,account_no ,balance,fee):\n",
    "        super().__init__(account_no ,balance)\n",
    "        self.fee = fee\n",
    "        \n",
    "    def deduct_fees(self):\n",
    "        super().info()\n",
    "        print(f\" your remaining amount after fee deduction is Rs. {(self.balance)-(self.fee)}\")\n",
    "        \n",
    "        \n",
    "A1 = SavingsAccount(\"12345\",235000,5,1.5)   \n",
    "A1.Calculate_interest()\n",
    "\n",
    "\n",
    "A2 = checkingAccount(\"15447\",241800,2000)\n",
    "A2.deduct_fees()\n",
    "        "
   ]
  },
  {
   "cell_type": "code",
   "execution_count": null,
   "id": "fbcd1429",
   "metadata": {},
   "outputs": [],
   "source": []
  }
 ],
 "metadata": {
  "kernelspec": {
   "display_name": "Python 3 (ipykernel)",
   "language": "python",
   "name": "python3"
  },
  "language_info": {
   "codemirror_mode": {
    "name": "ipython",
    "version": 3
   },
   "file_extension": ".py",
   "mimetype": "text/x-python",
   "name": "python",
   "nbconvert_exporter": "python",
   "pygments_lexer": "ipython3",
   "version": "3.9.12"
  }
 },
 "nbformat": 4,
 "nbformat_minor": 5
}
